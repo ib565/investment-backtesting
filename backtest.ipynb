{
 "cells": [
  {
   "cell_type": "code",
   "execution_count": 98,
   "id": "9d29af5f",
   "metadata": {},
   "outputs": [],
   "source": [
    "%%capture\n",
    "%pip install yfinance"
   ]
  },
  {
   "cell_type": "code",
   "execution_count": 99,
   "id": "60d3c660",
   "metadata": {},
   "outputs": [],
   "source": [
    "import yfinance as yf\n",
    "import datetime"
   ]
  },
  {
   "cell_type": "code",
   "execution_count": 100,
   "id": "c25be47d",
   "metadata": {},
   "outputs": [
    {
     "name": "stderr",
     "output_type": "stream",
     "text": [
      "C:\\Users\\ishui\\AppData\\Local\\Temp\\ipykernel_27732\\2959623623.py:1: FutureWarning: YF.download() has changed argument auto_adjust default to True\n",
      "  df = yf.download(['^NSEI'], period='max')\n",
      "[*********************100%***********************]  1 of 1 completed\n"
     ]
    },
    {
     "data": {
      "text/html": [
       "<div>\n",
       "<style scoped>\n",
       "    .dataframe tbody tr th:only-of-type {\n",
       "        vertical-align: middle;\n",
       "    }\n",
       "\n",
       "    .dataframe tbody tr th {\n",
       "        vertical-align: top;\n",
       "    }\n",
       "\n",
       "    .dataframe thead tr th {\n",
       "        text-align: left;\n",
       "    }\n",
       "\n",
       "    .dataframe thead tr:last-of-type th {\n",
       "        text-align: right;\n",
       "    }\n",
       "</style>\n",
       "<table border=\"1\" class=\"dataframe\">\n",
       "  <thead>\n",
       "    <tr>\n",
       "      <th>Price</th>\n",
       "      <th>Close</th>\n",
       "      <th>High</th>\n",
       "      <th>Low</th>\n",
       "      <th>Open</th>\n",
       "      <th>Volume</th>\n",
       "    </tr>\n",
       "    <tr>\n",
       "      <th>Ticker</th>\n",
       "      <th>^NSEI</th>\n",
       "      <th>^NSEI</th>\n",
       "      <th>^NSEI</th>\n",
       "      <th>^NSEI</th>\n",
       "      <th>^NSEI</th>\n",
       "    </tr>\n",
       "    <tr>\n",
       "      <th>Date</th>\n",
       "      <th></th>\n",
       "      <th></th>\n",
       "      <th></th>\n",
       "      <th></th>\n",
       "      <th></th>\n",
       "    </tr>\n",
       "  </thead>\n",
       "  <tbody>\n",
       "    <tr>\n",
       "      <th>2007-09-17</th>\n",
       "      <td>4494.649902</td>\n",
       "      <td>4549.049805</td>\n",
       "      <td>4482.850098</td>\n",
       "      <td>4518.450195</td>\n",
       "      <td>0</td>\n",
       "    </tr>\n",
       "    <tr>\n",
       "      <th>2007-09-18</th>\n",
       "      <td>4546.200195</td>\n",
       "      <td>4551.799805</td>\n",
       "      <td>4481.549805</td>\n",
       "      <td>4494.100098</td>\n",
       "      <td>0</td>\n",
       "    </tr>\n",
       "    <tr>\n",
       "      <th>2007-09-19</th>\n",
       "      <td>4732.350098</td>\n",
       "      <td>4739.000000</td>\n",
       "      <td>4550.250000</td>\n",
       "      <td>4550.250000</td>\n",
       "      <td>0</td>\n",
       "    </tr>\n",
       "    <tr>\n",
       "      <th>2007-09-20</th>\n",
       "      <td>4747.549805</td>\n",
       "      <td>4760.850098</td>\n",
       "      <td>4721.149902</td>\n",
       "      <td>4734.850098</td>\n",
       "      <td>0</td>\n",
       "    </tr>\n",
       "    <tr>\n",
       "      <th>2007-09-21</th>\n",
       "      <td>4837.549805</td>\n",
       "      <td>4855.700195</td>\n",
       "      <td>4733.700195</td>\n",
       "      <td>4752.950195</td>\n",
       "      <td>0</td>\n",
       "    </tr>\n",
       "  </tbody>\n",
       "</table>\n",
       "</div>"
      ],
      "text/plain": [
       "Price             Close         High          Low         Open Volume\n",
       "Ticker            ^NSEI        ^NSEI        ^NSEI        ^NSEI  ^NSEI\n",
       "Date                                                                 \n",
       "2007-09-17  4494.649902  4549.049805  4482.850098  4518.450195      0\n",
       "2007-09-18  4546.200195  4551.799805  4481.549805  4494.100098      0\n",
       "2007-09-19  4732.350098  4739.000000  4550.250000  4550.250000      0\n",
       "2007-09-20  4747.549805  4760.850098  4721.149902  4734.850098      0\n",
       "2007-09-21  4837.549805  4855.700195  4733.700195  4752.950195      0"
      ]
     },
     "execution_count": 100,
     "metadata": {},
     "output_type": "execute_result"
    }
   ],
   "source": [
    "df = yf.download(['^NSEI'], period='max')\n",
    "df.head()"
   ]
  },
  {
   "cell_type": "code",
   "execution_count": 101,
   "id": "d8fcfeee",
   "metadata": {},
   "outputs": [
    {
     "name": "stdout",
     "output_type": "stream",
     "text": [
      "<class 'pandas.core.frame.DataFrame'>\n",
      "DatetimeIndex: 4386 entries, 2007-09-17 to 2025-08-04\n",
      "Data columns (total 1 columns):\n",
      " #   Column  Non-Null Count  Dtype  \n",
      "---  ------  --------------  -----  \n",
      " 0   ^NSEI   4386 non-null   float64\n",
      "dtypes: float64(1)\n",
      "memory usage: 68.5 KB\n",
      "None\n"
     ]
    },
    {
     "data": {
      "text/html": [
       "<div>\n",
       "<style scoped>\n",
       "    .dataframe tbody tr th:only-of-type {\n",
       "        vertical-align: middle;\n",
       "    }\n",
       "\n",
       "    .dataframe tbody tr th {\n",
       "        vertical-align: top;\n",
       "    }\n",
       "\n",
       "    .dataframe thead th {\n",
       "        text-align: right;\n",
       "    }\n",
       "</style>\n",
       "<table border=\"1\" class=\"dataframe\">\n",
       "  <thead>\n",
       "    <tr style=\"text-align: right;\">\n",
       "      <th>Ticker</th>\n",
       "      <th>^NSEI</th>\n",
       "    </tr>\n",
       "    <tr>\n",
       "      <th>Date</th>\n",
       "      <th></th>\n",
       "    </tr>\n",
       "  </thead>\n",
       "  <tbody>\n",
       "    <tr>\n",
       "      <th>2007-09-17</th>\n",
       "      <td>4494.649902</td>\n",
       "    </tr>\n",
       "    <tr>\n",
       "      <th>2007-09-18</th>\n",
       "      <td>4546.200195</td>\n",
       "    </tr>\n",
       "    <tr>\n",
       "      <th>2007-09-19</th>\n",
       "      <td>4732.350098</td>\n",
       "    </tr>\n",
       "    <tr>\n",
       "      <th>2007-09-20</th>\n",
       "      <td>4747.549805</td>\n",
       "    </tr>\n",
       "    <tr>\n",
       "      <th>2007-09-21</th>\n",
       "      <td>4837.549805</td>\n",
       "    </tr>\n",
       "  </tbody>\n",
       "</table>\n",
       "</div>"
      ],
      "text/plain": [
       "Ticker            ^NSEI\n",
       "Date                   \n",
       "2007-09-17  4494.649902\n",
       "2007-09-18  4546.200195\n",
       "2007-09-19  4732.350098\n",
       "2007-09-20  4747.549805\n",
       "2007-09-21  4837.549805"
      ]
     },
     "execution_count": 101,
     "metadata": {},
     "output_type": "execute_result"
    }
   ],
   "source": [
    "closing_prices = df['Close']\n",
    "print(closing_prices.info())\n",
    "closing_prices.head()"
   ]
  },
  {
   "cell_type": "code",
   "execution_count": 102,
   "id": "2525e6ff",
   "metadata": {},
   "outputs": [
    {
     "name": "stdout",
     "output_type": "stream",
     "text": [
      "4386\n"
     ]
    },
    {
     "name": "stderr",
     "output_type": "stream",
     "text": [
      "C:\\Users\\ishui\\AppData\\Local\\Temp\\ipykernel_27732\\646364951.py:1: SettingWithCopyWarning: \n",
      "A value is trying to be set on a copy of a slice from a DataFrame\n",
      "\n",
      "See the caveats in the documentation: https://pandas.pydata.org/pandas-docs/stable/user_guide/indexing.html#returning-a-view-versus-a-copy\n",
      "  closing_prices.dropna(inplace=True)\n"
     ]
    }
   ],
   "source": [
    "closing_prices.dropna(inplace=True)\n",
    "print(len(closing_prices))"
   ]
  },
  {
   "cell_type": "code",
   "execution_count": 103,
   "id": "91520ce3",
   "metadata": {},
   "outputs": [
    {
     "name": "stderr",
     "output_type": "stream",
     "text": [
      "C:\\Users\\ishui\\AppData\\Local\\Temp\\ipykernel_27732\\328362761.py:1: SettingWithCopyWarning: \n",
      "A value is trying to be set on a copy of a slice from a DataFrame.\n",
      "Try using .loc[row_indexer,col_indexer] = value instead\n",
      "\n",
      "See the caveats in the documentation: https://pandas.pydata.org/pandas-docs/stable/user_guide/indexing.html#returning-a-view-versus-a-copy\n",
      "  closing_prices[\"nifty_pct_change\"] = closing_prices[\"^NSEI\"].pct_change() * 100\n"
     ]
    }
   ],
   "source": [
    "closing_prices[\"nifty_pct_change\"] = closing_prices[\"^NSEI\"].pct_change() * 100"
   ]
  },
  {
   "cell_type": "code",
   "execution_count": 104,
   "id": "f82a17c1",
   "metadata": {},
   "outputs": [
    {
     "data": {
      "text/html": [
       "<div>\n",
       "<style scoped>\n",
       "    .dataframe tbody tr th:only-of-type {\n",
       "        vertical-align: middle;\n",
       "    }\n",
       "\n",
       "    .dataframe tbody tr th {\n",
       "        vertical-align: top;\n",
       "    }\n",
       "\n",
       "    .dataframe thead th {\n",
       "        text-align: right;\n",
       "    }\n",
       "</style>\n",
       "<table border=\"1\" class=\"dataframe\">\n",
       "  <thead>\n",
       "    <tr style=\"text-align: right;\">\n",
       "      <th>Ticker</th>\n",
       "      <th>^NSEI</th>\n",
       "      <th>nifty_pct_change</th>\n",
       "    </tr>\n",
       "    <tr>\n",
       "      <th>Date</th>\n",
       "      <th></th>\n",
       "      <th></th>\n",
       "    </tr>\n",
       "  </thead>\n",
       "  <tbody>\n",
       "    <tr>\n",
       "      <th>2007-09-17</th>\n",
       "      <td>4494.649902</td>\n",
       "      <td>NaN</td>\n",
       "    </tr>\n",
       "    <tr>\n",
       "      <th>2007-09-18</th>\n",
       "      <td>4546.200195</td>\n",
       "      <td>1.146926</td>\n",
       "    </tr>\n",
       "    <tr>\n",
       "      <th>2007-09-19</th>\n",
       "      <td>4732.350098</td>\n",
       "      <td>4.094626</td>\n",
       "    </tr>\n",
       "    <tr>\n",
       "      <th>2007-09-20</th>\n",
       "      <td>4747.549805</td>\n",
       "      <td>0.321187</td>\n",
       "    </tr>\n",
       "    <tr>\n",
       "      <th>2007-09-21</th>\n",
       "      <td>4837.549805</td>\n",
       "      <td>1.895715</td>\n",
       "    </tr>\n",
       "    <tr>\n",
       "      <th>...</th>\n",
       "      <td>...</td>\n",
       "      <td>...</td>\n",
       "    </tr>\n",
       "    <tr>\n",
       "      <th>2025-07-29</th>\n",
       "      <td>24821.099609</td>\n",
       "      <td>0.568047</td>\n",
       "    </tr>\n",
       "    <tr>\n",
       "      <th>2025-07-30</th>\n",
       "      <td>24855.050781</td>\n",
       "      <td>0.136784</td>\n",
       "    </tr>\n",
       "    <tr>\n",
       "      <th>2025-07-31</th>\n",
       "      <td>24768.349609</td>\n",
       "      <td>-0.348827</td>\n",
       "    </tr>\n",
       "    <tr>\n",
       "      <th>2025-08-01</th>\n",
       "      <td>24565.349609</td>\n",
       "      <td>-0.819594</td>\n",
       "    </tr>\n",
       "    <tr>\n",
       "      <th>2025-08-04</th>\n",
       "      <td>24722.750000</td>\n",
       "      <td>0.640742</td>\n",
       "    </tr>\n",
       "  </tbody>\n",
       "</table>\n",
       "<p>4386 rows × 2 columns</p>\n",
       "</div>"
      ],
      "text/plain": [
       "Ticker             ^NSEI  nifty_pct_change\n",
       "Date                                      \n",
       "2007-09-17   4494.649902               NaN\n",
       "2007-09-18   4546.200195          1.146926\n",
       "2007-09-19   4732.350098          4.094626\n",
       "2007-09-20   4747.549805          0.321187\n",
       "2007-09-21   4837.549805          1.895715\n",
       "...                  ...               ...\n",
       "2025-07-29  24821.099609          0.568047\n",
       "2025-07-30  24855.050781          0.136784\n",
       "2025-07-31  24768.349609         -0.348827\n",
       "2025-08-01  24565.349609         -0.819594\n",
       "2025-08-04  24722.750000          0.640742\n",
       "\n",
       "[4386 rows x 2 columns]"
      ]
     },
     "execution_count": 104,
     "metadata": {},
     "output_type": "execute_result"
    }
   ],
   "source": [
    "closing_prices"
   ]
  },
  {
   "cell_type": "code",
   "execution_count": 105,
   "id": "4f37de04",
   "metadata": {},
   "outputs": [],
   "source": [
    "def calculate_returns_SIP(closing_prices, start_date, budget, investment_chunk):\n",
    "    print(f\"Calculating SIP returns from {start_date}, with investment chunk = {investment_chunk} and budget = {budget}\")\n",
    "    df = closing_prices[start_date:]\n",
    "    corpus = 0\n",
    "    deposit_count = 0\n",
    "    prev_month = 0\n",
    "    invested_amt = 0\n",
    "    for row in df.iterrows():\n",
    "        curr_month = row[0].date().month\n",
    "        if invested_amt < budget and prev_month != curr_month:\n",
    "            corpus += investment_chunk\n",
    "            invested_amt += investment_chunk\n",
    "            deposit_count += 1\n",
    "            prev_month = curr_month\n",
    "        corpus *= (100 + row[1]['nifty_pct_change'])/100\n",
    "\n",
    "    returns = corpus - invested_amt\n",
    "    returns_pct = returns/invested_amt * 100\n",
    "    print(\"Number of installments:\", deposit_count)\n",
    "    print(\"Invested corpus:\", invested_amt)\n",
    "    print(\"Total corpus at end:\", corpus)\n",
    "    print(\"Returns:\", returns)\n",
    "    print(\"Returns %:\", returns_pct, \"%\")\n",
    "    return returns, returns_pct"
   ]
  },
  {
   "cell_type": "code",
   "execution_count": 106,
   "id": "c4786160",
   "metadata": {},
   "outputs": [],
   "source": [
    "def calculate_returns_lumpsum(closing_prices, start_date, budget):\n",
    "    print(f\"Calculating lumpsum returns from {start_date} with budget = {budget}\")\n",
    "    df = closing_prices[start_date:]\n",
    "    corpus = budget\n",
    "    for row in df.iterrows():\n",
    "        corpus *= (100 + row[1]['nifty_pct_change'])/100\n",
    "    returns = corpus - budget\n",
    "    returns_pct = returns/budget * 100\n",
    "    print(\"Invested corpus:\", budget)\n",
    "    print(\"Total corpus at end:\", corpus)\n",
    "    print(\"Returns:\", returns)\n",
    "    print(\"Returns %:\", returns_pct, \"%\")\n",
    "    return returns, returns_pct"
   ]
  },
  {
   "cell_type": "code",
   "execution_count": 107,
   "id": "15289b4a",
   "metadata": {},
   "outputs": [],
   "source": [
    "# Invest chunk whenever price drops by 1% in a day\n",
    "def calculate_returns_dip(closing_prices, start_date, budget, investment_chunk):\n",
    "    print(f\"Calculating dip buying returns from {start_date}, with investment chunk = {investment_chunk} and budget = {budget}\")\n",
    "    print(\"Investing every time index falls >1%\")\n",
    "    df = closing_prices[start_date:]\n",
    "    corpus = 0\n",
    "    deposit_count = 0\n",
    "    invested_amt = 0\n",
    "    for row in df.iterrows():\n",
    "        corpus *= (100 + row[1]['nifty_pct_change'])/100\n",
    "        if invested_amt < budget and row[1]['nifty_pct_change'] < -1.0:\n",
    "            corpus += investment_chunk\n",
    "            invested_amt += investment_chunk\n",
    "            deposit_count += 1\n",
    "    returns = corpus - invested_amt\n",
    "    returns_pct = returns/invested_amt * 100\n",
    "    print(\"Number of installments:\", deposit_count)\n",
    "    print(\"Invested corpus:\", invested_amt)\n",
    "    print(\"Total corpus at end:\", corpus)\n",
    "    print(\"Returns:\", returns)\n",
    "    print(\"Returns %:\", returns_pct, \"%\")\n",
    "    return returns, returns_pct\n"
   ]
  },
  {
   "cell_type": "code",
   "execution_count": 108,
   "id": "406a258d",
   "metadata": {},
   "outputs": [],
   "source": [
    "BUDGET = 100000 # 1 lakhs\n",
    "INVESTMENT_CHUNK = 10000\n",
    "NUM_SIMULATIONS = 500\n",
    "RANGE_START = datetime.date(2010, 1, 1)\n",
    "RANGE_END = datetime.date.today()"
   ]
  },
  {
   "cell_type": "code",
   "execution_count": 109,
   "id": "7b6ff87c",
   "metadata": {},
   "outputs": [],
   "source": [
    "import random\n",
    "def get_random_dates(start, end, num_dates):\n",
    "    dates_bet = end - start\n",
    "    total_days = dates_bet.days\n",
    "\n",
    "    res = []\n",
    "    for idx in range(num_dates):\n",
    "        random.seed(a=None)\n",
    "        \n",
    "        # getting random days\n",
    "        randay = random.randrange(total_days)\n",
    "        \n",
    "        # getting random dates \n",
    "        res.append(start + datetime.timedelta(days=randay))\n",
    "\n",
    "    return res"
   ]
  },
  {
   "cell_type": "code",
   "execution_count": null,
   "id": "035dfb28",
   "metadata": {},
   "outputs": [],
   "source": [
    "start_dates = get_random_dates(RANGE_START, RANGE_END, NUM_SIMULATIONS)\n",
    "win_counts = {\n",
    "        \"lumpsum\": 0,\n",
    "        \"sip\": 0,\n",
    "        \"dip\": 0\n",
    "    }\n",
    "for date in start_dates:\n",
    "    print(\"\\n-----------------------------------------\")\n",
    "    print(\"START DATE:\", date)\n",
    "    lumpsum_returns, _ = calculate_returns_lumpsum(closing_prices, date, BUDGET)\n",
    "    sip_returns, _ = calculate_returns_SIP(closing_prices, date, BUDGET, INVESTMENT_CHUNK)\n",
    "    dip_returns, _ = calculate_returns_dip(closing_prices, date, BUDGET, INVESTMENT_CHUNK)\n",
    "\n",
    "    if lumpsum_returns > sip_returns and lumpsum_returns > dip_returns:\n",
    "        print(\"Lumpsum investing wins!\")\n",
    "        win_counts[\"lumpsum\"] += 1\n",
    "    elif sip_returns > lumpsum_returns and sip_returns > dip_returns:\n",
    "        print(\"SIP investing wins!\")\n",
    "        win_counts[\"sip\"] += 1\n",
    "    else:\n",
    "        print(\"dip investing wins!\")\n",
    "        win_counts[\"dip\"] += 1\n",
    "\n",
    "print(win_counts)"
   ]
  },
  {
   "cell_type": "markdown",
   "id": "47588af5",
   "metadata": {},
   "source": [
    "# Summary"
   ]
  },
  {
   "cell_type": "code",
   "execution_count": 111,
   "id": "f3e14304",
   "metadata": {},
   "outputs": [
    {
     "name": "stdout",
     "output_type": "stream",
     "text": [
      "Total simulations: 500\n",
      "Lumpsum investing won 284 times: 56.80%\n",
      "SIP investing won 89 times: 17.80%\n",
      "Dip investing won 127 times: 25.40%\n"
     ]
    }
   ],
   "source": [
    "print(f\"Total simulations: {NUM_SIMULATIONS}\")\n",
    "print(f\"Lumpsum investing won {win_counts[\"lumpsum\"]} times: {(win_counts[\"lumpsum\"]/NUM_SIMULATIONS) * 100:.2f}%\")\n",
    "print(f\"SIP investing won {win_counts[\"sip\"]} times: {(win_counts[\"sip\"]/NUM_SIMULATIONS) * 100:.2f}%\")\n",
    "print(f\"Dip investing won {win_counts[\"dip\"]} times: {(win_counts[\"dip\"]/NUM_SIMULATIONS) * 100:.2f}%\")"
   ]
  }
 ],
 "metadata": {
  "kernelspec": {
   "display_name": "venv",
   "language": "python",
   "name": "python3"
  },
  "language_info": {
   "codemirror_mode": {
    "name": "ipython",
    "version": 3
   },
   "file_extension": ".py",
   "mimetype": "text/x-python",
   "name": "python",
   "nbconvert_exporter": "python",
   "pygments_lexer": "ipython3",
   "version": "3.13.1"
  }
 },
 "nbformat": 4,
 "nbformat_minor": 5
}
