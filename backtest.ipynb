{
 "cells": [
  {
   "cell_type": "code",
   "execution_count": 2,
   "id": "9d29af5f",
   "metadata": {},
   "outputs": [],
   "source": [
    "%%capture\n",
    "%pip install yfinance"
   ]
  },
  {
   "cell_type": "code",
   "execution_count": 4,
   "id": "60d3c660",
   "metadata": {},
   "outputs": [],
   "source": [
    "import yfinance as yf"
   ]
  },
  {
   "cell_type": "code",
   "execution_count": 35,
   "id": "c25be47d",
   "metadata": {},
   "outputs": [
    {
     "name": "stderr",
     "output_type": "stream",
     "text": [
      "C:\\Users\\ishui\\AppData\\Local\\Temp\\ipykernel_32172\\2772433040.py:1: FutureWarning: YF.download() has changed argument auto_adjust default to True\n",
      "  df = yf.download(['NIFTYMIDCAP150.NS', '^NSEI'], period='5y')\n",
      "[*********************100%***********************]  2 of 2 completed\n"
     ]
    },
    {
     "data": {
      "text/html": [
       "<div>\n",
       "<style scoped>\n",
       "    .dataframe tbody tr th:only-of-type {\n",
       "        vertical-align: middle;\n",
       "    }\n",
       "\n",
       "    .dataframe tbody tr th {\n",
       "        vertical-align: top;\n",
       "    }\n",
       "\n",
       "    .dataframe thead tr th {\n",
       "        text-align: left;\n",
       "    }\n",
       "\n",
       "    .dataframe thead tr:last-of-type th {\n",
       "        text-align: right;\n",
       "    }\n",
       "</style>\n",
       "<table border=\"1\" class=\"dataframe\">\n",
       "  <thead>\n",
       "    <tr>\n",
       "      <th>Price</th>\n",
       "      <th colspan=\"2\" halign=\"left\">Close</th>\n",
       "      <th colspan=\"2\" halign=\"left\">High</th>\n",
       "      <th colspan=\"2\" halign=\"left\">Low</th>\n",
       "      <th colspan=\"2\" halign=\"left\">Open</th>\n",
       "      <th colspan=\"2\" halign=\"left\">Volume</th>\n",
       "    </tr>\n",
       "    <tr>\n",
       "      <th>Ticker</th>\n",
       "      <th>NIFTYMIDCAP150.NS</th>\n",
       "      <th>^NSEI</th>\n",
       "      <th>NIFTYMIDCAP150.NS</th>\n",
       "      <th>^NSEI</th>\n",
       "      <th>NIFTYMIDCAP150.NS</th>\n",
       "      <th>^NSEI</th>\n",
       "      <th>NIFTYMIDCAP150.NS</th>\n",
       "      <th>^NSEI</th>\n",
       "      <th>NIFTYMIDCAP150.NS</th>\n",
       "      <th>^NSEI</th>\n",
       "    </tr>\n",
       "    <tr>\n",
       "      <th>Date</th>\n",
       "      <th></th>\n",
       "      <th></th>\n",
       "      <th></th>\n",
       "      <th></th>\n",
       "      <th></th>\n",
       "      <th></th>\n",
       "      <th></th>\n",
       "      <th></th>\n",
       "      <th></th>\n",
       "      <th></th>\n",
       "    </tr>\n",
       "  </thead>\n",
       "  <tbody>\n",
       "    <tr>\n",
       "      <th>2020-07-20</th>\n",
       "      <td>5845.100098</td>\n",
       "      <td>11022.200195</td>\n",
       "      <td>5859.299805</td>\n",
       "      <td>11037.900391</td>\n",
       "      <td>5817.399902</td>\n",
       "      <td>10953.000000</td>\n",
       "      <td>5819.399902</td>\n",
       "      <td>10999.450195</td>\n",
       "      <td>0.0</td>\n",
       "      <td>554300</td>\n",
       "    </tr>\n",
       "    <tr>\n",
       "      <th>2020-07-21</th>\n",
       "      <td>5853.399902</td>\n",
       "      <td>11162.250000</td>\n",
       "      <td>5901.750000</td>\n",
       "      <td>11179.549805</td>\n",
       "      <td>5848.450195</td>\n",
       "      <td>11113.250000</td>\n",
       "      <td>5896.149902</td>\n",
       "      <td>11126.099609</td>\n",
       "      <td>0.0</td>\n",
       "      <td>772000</td>\n",
       "    </tr>\n",
       "    <tr>\n",
       "      <th>2020-07-22</th>\n",
       "      <td>5851.600098</td>\n",
       "      <td>11132.599609</td>\n",
       "      <td>5891.250000</td>\n",
       "      <td>11238.099609</td>\n",
       "      <td>5820.899902</td>\n",
       "      <td>11056.549805</td>\n",
       "      <td>5869.149902</td>\n",
       "      <td>11231.200195</td>\n",
       "      <td>0.0</td>\n",
       "      <td>765100</td>\n",
       "    </tr>\n",
       "    <tr>\n",
       "      <th>2020-07-23</th>\n",
       "      <td>5892.500000</td>\n",
       "      <td>11215.450195</td>\n",
       "      <td>5904.600098</td>\n",
       "      <td>11239.799805</td>\n",
       "      <td>5861.200195</td>\n",
       "      <td>11103.150391</td>\n",
       "      <td>5866.399902</td>\n",
       "      <td>11135.000000</td>\n",
       "      <td>0.0</td>\n",
       "      <td>621600</td>\n",
       "    </tr>\n",
       "    <tr>\n",
       "      <th>2020-07-24</th>\n",
       "      <td>5879.350098</td>\n",
       "      <td>11194.150391</td>\n",
       "      <td>5892.950195</td>\n",
       "      <td>11225.400391</td>\n",
       "      <td>5837.149902</td>\n",
       "      <td>11090.299805</td>\n",
       "      <td>5871.549805</td>\n",
       "      <td>11149.950195</td>\n",
       "      <td>0.0</td>\n",
       "      <td>678900</td>\n",
       "    </tr>\n",
       "  </tbody>\n",
       "</table>\n",
       "</div>"
      ],
      "text/plain": [
       "Price                  Close                            High                \\\n",
       "Ticker     NIFTYMIDCAP150.NS         ^NSEI NIFTYMIDCAP150.NS         ^NSEI   \n",
       "Date                                                                         \n",
       "2020-07-20       5845.100098  11022.200195       5859.299805  11037.900391   \n",
       "2020-07-21       5853.399902  11162.250000       5901.750000  11179.549805   \n",
       "2020-07-22       5851.600098  11132.599609       5891.250000  11238.099609   \n",
       "2020-07-23       5892.500000  11215.450195       5904.600098  11239.799805   \n",
       "2020-07-24       5879.350098  11194.150391       5892.950195  11225.400391   \n",
       "\n",
       "Price                    Low                            Open                \\\n",
       "Ticker     NIFTYMIDCAP150.NS         ^NSEI NIFTYMIDCAP150.NS         ^NSEI   \n",
       "Date                                                                         \n",
       "2020-07-20       5817.399902  10953.000000       5819.399902  10999.450195   \n",
       "2020-07-21       5848.450195  11113.250000       5896.149902  11126.099609   \n",
       "2020-07-22       5820.899902  11056.549805       5869.149902  11231.200195   \n",
       "2020-07-23       5861.200195  11103.150391       5866.399902  11135.000000   \n",
       "2020-07-24       5837.149902  11090.299805       5871.549805  11149.950195   \n",
       "\n",
       "Price                 Volume          \n",
       "Ticker     NIFTYMIDCAP150.NS   ^NSEI  \n",
       "Date                                  \n",
       "2020-07-20               0.0  554300  \n",
       "2020-07-21               0.0  772000  \n",
       "2020-07-22               0.0  765100  \n",
       "2020-07-23               0.0  621600  \n",
       "2020-07-24               0.0  678900  "
      ]
     },
     "execution_count": 35,
     "metadata": {},
     "output_type": "execute_result"
    }
   ],
   "source": [
    "df = yf.download(['NIFTYMIDCAP150.NS', '^NSEI'], period='5y')\n",
    "df.head()"
   ]
  },
  {
   "cell_type": "code",
   "execution_count": null,
   "id": "d8fcfeee",
   "metadata": {},
   "outputs": [
    {
     "name": "stdout",
     "output_type": "stream",
     "text": [
      "<class 'pandas.core.frame.DataFrame'>\n",
      "DatetimeIndex: 1239 entries, 2020-07-20 to 2025-07-18\n",
      "Data columns (total 2 columns):\n",
      " #   Column             Non-Null Count  Dtype  \n",
      "---  ------             --------------  -----  \n",
      " 0   NIFTYMIDCAP150.NS  1238 non-null   float64\n",
      " 1   ^NSEI              1239 non-null   float64\n",
      "dtypes: float64(2)\n",
      "memory usage: 29.0 KB\n",
      "None\n"
     ]
    },
    {
     "data": {
      "text/html": [
       "<div>\n",
       "<style scoped>\n",
       "    .dataframe tbody tr th:only-of-type {\n",
       "        vertical-align: middle;\n",
       "    }\n",
       "\n",
       "    .dataframe tbody tr th {\n",
       "        vertical-align: top;\n",
       "    }\n",
       "\n",
       "    .dataframe thead th {\n",
       "        text-align: right;\n",
       "    }\n",
       "</style>\n",
       "<table border=\"1\" class=\"dataframe\">\n",
       "  <thead>\n",
       "    <tr style=\"text-align: right;\">\n",
       "      <th>Ticker</th>\n",
       "      <th>NIFTYMIDCAP150.NS</th>\n",
       "      <th>^NSEI</th>\n",
       "    </tr>\n",
       "    <tr>\n",
       "      <th>Date</th>\n",
       "      <th></th>\n",
       "      <th></th>\n",
       "    </tr>\n",
       "  </thead>\n",
       "  <tbody>\n",
       "    <tr>\n",
       "      <th>2020-07-20</th>\n",
       "      <td>5845.100098</td>\n",
       "      <td>11022.200195</td>\n",
       "    </tr>\n",
       "    <tr>\n",
       "      <th>2020-07-21</th>\n",
       "      <td>5853.399902</td>\n",
       "      <td>11162.250000</td>\n",
       "    </tr>\n",
       "    <tr>\n",
       "      <th>2020-07-22</th>\n",
       "      <td>5851.600098</td>\n",
       "      <td>11132.599609</td>\n",
       "    </tr>\n",
       "    <tr>\n",
       "      <th>2020-07-23</th>\n",
       "      <td>5892.500000</td>\n",
       "      <td>11215.450195</td>\n",
       "    </tr>\n",
       "    <tr>\n",
       "      <th>2020-07-24</th>\n",
       "      <td>5879.350098</td>\n",
       "      <td>11194.150391</td>\n",
       "    </tr>\n",
       "  </tbody>\n",
       "</table>\n",
       "</div>"
      ],
      "text/plain": [
       "Ticker      NIFTYMIDCAP150.NS         ^NSEI\n",
       "Date                                       \n",
       "2020-07-20        5845.100098  11022.200195\n",
       "2020-07-21        5853.399902  11162.250000\n",
       "2020-07-22        5851.600098  11132.599609\n",
       "2020-07-23        5892.500000  11215.450195\n",
       "2020-07-24        5879.350098  11194.150391"
      ]
     },
     "execution_count": 36,
     "metadata": {},
     "output_type": "execute_result"
    }
   ],
   "source": [
    "closing_prices = df['Close']\n",
    "print(closing_prices.info())\n",
    "closing_prices.head()"
   ]
  },
  {
   "cell_type": "code",
   "execution_count": 37,
   "id": "2525e6ff",
   "metadata": {},
   "outputs": [
    {
     "name": "stdout",
     "output_type": "stream",
     "text": [
      "1238\n"
     ]
    },
    {
     "name": "stderr",
     "output_type": "stream",
     "text": [
      "C:\\Users\\ishui\\AppData\\Local\\Temp\\ipykernel_32172\\646364951.py:1: SettingWithCopyWarning: \n",
      "A value is trying to be set on a copy of a slice from a DataFrame\n",
      "\n",
      "See the caveats in the documentation: https://pandas.pydata.org/pandas-docs/stable/user_guide/indexing.html#returning-a-view-versus-a-copy\n",
      "  closing_prices.dropna(inplace=True)\n"
     ]
    }
   ],
   "source": [
    "closing_prices.dropna(inplace=True)\n",
    "print(len(closing_prices))"
   ]
  },
  {
   "cell_type": "code",
   "execution_count": 38,
   "id": "91520ce3",
   "metadata": {},
   "outputs": [
    {
     "name": "stderr",
     "output_type": "stream",
     "text": [
      "C:\\Users\\ishui\\AppData\\Local\\Temp\\ipykernel_32172\\1253526494.py:1: SettingWithCopyWarning: \n",
      "A value is trying to be set on a copy of a slice from a DataFrame.\n",
      "Try using .loc[row_indexer,col_indexer] = value instead\n",
      "\n",
      "See the caveats in the documentation: https://pandas.pydata.org/pandas-docs/stable/user_guide/indexing.html#returning-a-view-versus-a-copy\n",
      "  closing_prices[\"nifty_150_pct_change\"] = closing_prices[\"NIFTYMIDCAP150.NS\"].pct_change()\n",
      "C:\\Users\\ishui\\AppData\\Local\\Temp\\ipykernel_32172\\1253526494.py:2: SettingWithCopyWarning: \n",
      "A value is trying to be set on a copy of a slice from a DataFrame.\n",
      "Try using .loc[row_indexer,col_indexer] = value instead\n",
      "\n",
      "See the caveats in the documentation: https://pandas.pydata.org/pandas-docs/stable/user_guide/indexing.html#returning-a-view-versus-a-copy\n",
      "  closing_prices[\"nifty_pct_change\"] = closing_prices[\"^NSEI\"].pct_change()\n"
     ]
    }
   ],
   "source": [
    "closing_prices[\"nifty_150_pct_change\"] = closing_prices[\"NIFTYMIDCAP150.NS\"].pct_change()\n",
    "closing_prices[\"nifty_pct_change\"] = closing_prices[\"^NSEI\"].pct_change()"
   ]
  },
  {
   "cell_type": "code",
   "execution_count": null,
   "id": "f82a17c1",
   "metadata": {},
   "outputs": [],
   "source": []
  }
 ],
 "metadata": {
  "kernelspec": {
   "display_name": "venv",
   "language": "python",
   "name": "python3"
  },
  "language_info": {
   "codemirror_mode": {
    "name": "ipython",
    "version": 3
   },
   "file_extension": ".py",
   "mimetype": "text/x-python",
   "name": "python",
   "nbconvert_exporter": "python",
   "pygments_lexer": "ipython3",
   "version": "3.13.1"
  }
 },
 "nbformat": 4,
 "nbformat_minor": 5
}
